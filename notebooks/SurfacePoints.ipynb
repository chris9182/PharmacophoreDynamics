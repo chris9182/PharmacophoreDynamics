{
 "cells": [
  {
   "cell_type": "code",
   "execution_count": 27,
   "id": "e8a84304",
   "metadata": {},
   "outputs": [],
   "source": [
    "import numpy as np\n",
    "import CDPL.Chem as Chem\n",
    "import CDPL.Biomol as Biomol\n",
    "import CDPL.Math as Math\n",
    "import CDPL.Pharm as Pharm\n",
    "import CDPL.Base as Base\n",
    "import CDPL.Shape as Shape\n",
    "import sys\n",
    "sys.path.append('../utils')\n",
    "from Protein import Protein\n",
    "from ProteinTools import THREE_LETTER_AMINO_ACID_CODES"
   ]
  },
  {
   "cell_type": "code",
   "execution_count": 7,
   "id": "48261d06",
   "metadata": {},
   "outputs": [],
   "source": [
    "path = '../Data/benchmark5.5/structures/'"
   ]
  },
  {
   "cell_type": "code",
   "execution_count": 8,
   "id": "e537bad7",
   "metadata": {},
   "outputs": [
    {
     "data": {
      "text/plain": [
       "<Protein.Protein at 0x7f8390146cc0>"
      ]
     },
     "execution_count": 8,
     "metadata": {},
     "output_type": "execute_result"
    }
   ],
   "source": [
    "p = Protein()\n",
    "p.fromFile('{}1A2K_l_b.pdb'.format(path))"
   ]
  },
  {
   "cell_type": "code",
   "execution_count": 9,
   "id": "af0b5d66",
   "metadata": {},
   "outputs": [
    {
     "data": {
      "text/plain": [
       "1598"
      ]
     },
     "execution_count": 9,
     "metadata": {},
     "output_type": "execute_result"
    }
   ],
   "source": [
    "p.numAtoms"
   ]
  },
  {
   "cell_type": "code",
   "execution_count": 24,
   "id": "43390728",
   "metadata": {
    "collapsed": true
   },
   "outputs": [
    {
     "name": "stdout",
     "output_type": "stream",
     "text": [
      "GDP\n",
      "[]\n",
      "[1570]\n",
      "GDP\n",
      "[]\n",
      "[1571]\n",
      "GDP\n",
      "[]\n",
      "[1572]\n",
      "GDP\n",
      "[]\n",
      "[1573]\n",
      "GDP\n",
      "[]\n",
      "[1574]\n",
      "GDP\n",
      "[]\n",
      "[1575]\n",
      "GDP\n",
      "[]\n",
      "[1576]\n",
      "GDP\n",
      "[]\n",
      "[1577]\n",
      "GDP\n",
      "[]\n",
      "[1578]\n",
      "GDP\n",
      "[]\n",
      "[1579]\n",
      "GDP\n",
      "[]\n",
      "[1580]\n",
      "GDP\n",
      "[]\n",
      "[1581]\n",
      "GDP\n",
      "[]\n",
      "[1582]\n",
      "GDP\n",
      "[]\n",
      "[1583]\n",
      "GDP\n",
      "[]\n",
      "[1584]\n",
      "GDP\n",
      "[]\n",
      "[1585]\n",
      "GDP\n",
      "[]\n",
      "[1586]\n",
      "GDP\n",
      "[]\n",
      "[1587]\n",
      "GDP\n",
      "[]\n",
      "[1588]\n",
      "GDP\n",
      "[]\n",
      "[1589]\n",
      "GDP\n",
      "[]\n",
      "[1590]\n",
      "GDP\n",
      "[]\n",
      "[1591]\n",
      "GDP\n",
      "[]\n",
      "[1592]\n",
      "GDP\n",
      "[]\n",
      "[1593]\n",
      "GDP\n",
      "[]\n",
      "[1594]\n",
      "GDP\n",
      "[]\n",
      "[1595]\n",
      "GDP\n",
      "[]\n",
      "[1596]\n",
      "GDP\n",
      "[]\n",
      "[1597]\n"
     ]
    }
   ],
   "source": [
    "# remove ligands and other crystalization artifacts\n",
    "p.separateLigandFromProtein()"
   ]
  },
  {
   "cell_type": "code",
   "execution_count": 25,
   "id": "ba78fe9e",
   "metadata": {},
   "outputs": [
    {
     "data": {
      "text/plain": [
       "1570"
      ]
     },
     "execution_count": 25,
     "metadata": {},
     "output_type": "execute_result"
    }
   ],
   "source": [
    "p.numAtoms"
   ]
  },
  {
   "cell_type": "code",
   "execution_count": 23,
   "id": "2b4161b9",
   "metadata": {},
   "outputs": [
    {
     "data": {
      "text/plain": [
       "[]"
      ]
     },
     "execution_count": 23,
     "metadata": {},
     "output_type": "execute_result"
    }
   ],
   "source": [
    "p.ligands"
   ]
  },
  {
   "cell_type": "code",
   "execution_count": null,
   "id": "b290abbd",
   "metadata": {},
   "outputs": [],
   "source": [
    "shapeFunc."
   ]
  }
 ],
 "metadata": {
  "kernelspec": {
   "display_name": "Python 3",
   "language": "python",
   "name": "python3"
  },
  "language_info": {
   "codemirror_mode": {
    "name": "ipython",
    "version": 3
   },
   "file_extension": ".py",
   "mimetype": "text/x-python",
   "name": "python",
   "nbconvert_exporter": "python",
   "pygments_lexer": "ipython3",
   "version": "3.9.4"
  }
 },
 "nbformat": 4,
 "nbformat_minor": 5
}
